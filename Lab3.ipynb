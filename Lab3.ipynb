{
 "cells": [
  {
   "cell_type": "markdown",
   "id": "ee07ec65",
   "metadata": {},
   "source": [
    "# COMP 1351: Intro to Programming\n",
    "## Winter 2024\n",
    "## Lab 3"
   ]
  },
  {
   "cell_type": "markdown",
   "id": "c5451fdd",
   "metadata": {
    "slideshow": {
     "slide_type": "slide"
    }
   },
   "source": [
    "# Administrivia\n",
    "- We are now on our weird schedule\n",
    "- Homework 2 is due next Tuesday night\n",
    "- Project 2 is due next Thursday night\n",
    "- Quiz 1 will be in class on Monday"
   ]
  },
  {
   "cell_type": "markdown",
   "id": "3b639ada",
   "metadata": {
    "slideshow": {
     "slide_type": "slide"
    }
   },
   "source": [
    "# Lets talk about Quizzes\n",
    "- Your First Quiz is on Monday\n",
    "- In class, paper and pencil, no computer or IDE\n",
    "- Every Monday after that "
   ]
  },
  {
   "cell_type": "markdown",
   "id": "cbb5f42c",
   "metadata": {
    "slideshow": {
     "slide_type": "slide"
    }
   },
   "source": [
    "# Operators\n",
    "\n",
    "- We've already been using operators\n",
    "- Common arithmetic operators include: `+`, `-`, `*`, `/`\n",
    "- Used for basic mathematical operations\n",
    "- Python also includes `//` (integer division) and `%` (modulo)"
   ]
  },
  {
   "cell_type": "markdown",
   "id": "d64bc16c",
   "metadata": {
    "slideshow": {
     "slide_type": "slide"
    }
   },
   "source": [
    "# Shorthand \n",
    "<div>\n",
    "<img src=\"img/lab3/Shorthand.png\" width=\"1000\"/>\n",
    "</div>"
   ]
  },
  {
   "cell_type": "markdown",
   "id": "b1a86c73",
   "metadata": {
    "slideshow": {
     "slide_type": "slide"
    }
   },
   "source": [
    "# Integer Division (`//`)\n",
    "\n",
    "- Yields the quotient in which the digits after the decimal point are removed\n",
    "- Example: `7 // 2` equals `3`\n",
    "- Different from regular division (`/`) which returns a floating-point number"
   ]
  },
  {
   "cell_type": "code",
   "execution_count": null,
   "id": "702d6b87",
   "metadata": {
    "slideshow": {
     "slide_type": "fragment"
    }
   },
   "outputs": [],
   "source": [
    "a = 7 \n",
    "b = 2\n",
    "print(7 / 2)"
   ]
  },
  {
   "cell_type": "markdown",
   "id": "8790d67b",
   "metadata": {
    "slideshow": {
     "slide_type": "slide"
    }
   },
   "source": [
    "# Why might we need this?"
   ]
  },
  {
   "cell_type": "markdown",
   "id": "deb8ba55",
   "metadata": {
    "slideshow": {
     "slide_type": "slide"
    }
   },
   "source": [
    "# The Modulo Operator (`%`)\n",
    "\n",
    "- Returns the remainder of the division\n",
    "- Example: `7 % 2` equals `1`\n",
    "- Useful in various programming scenarios, like determining if a number is even or odd"
   ]
  },
  {
   "cell_type": "code",
   "execution_count": null,
   "id": "17e56358",
   "metadata": {
    "slideshow": {
     "slide_type": "fragment"
    }
   },
   "outputs": [],
   "source": [
    "a = 7 \n",
    "b = 2\n",
    "print(7 % 2)"
   ]
  },
  {
   "cell_type": "markdown",
   "id": "eb5a108f",
   "metadata": {
    "slideshow": {
     "slide_type": "slide"
    }
   },
   "source": [
    "# Booleans\n",
    "\n",
    "- Fundamental data type in programming\n",
    "- Represents two values: True or False\n",
    "- Used in decision-making and control flow"
   ]
  },
  {
   "cell_type": "markdown",
   "id": "8c18cedd",
   "metadata": {
    "slideshow": {
     "slide_type": "slide"
    }
   },
   "source": [
    "# True and False in Python\n",
    "\n",
    "- In Python, `True` and `False` are the two boolean values\n",
    "- `True` represents a condition being met\n",
    "- `False` represents a condition not being met"
   ]
  },
  {
   "cell_type": "code",
   "execution_count": null,
   "id": "78986da5",
   "metadata": {
    "slideshow": {
     "slide_type": "fragment"
    }
   },
   "outputs": [],
   "source": [
    "variable = True"
   ]
  },
  {
   "cell_type": "markdown",
   "id": "02384f73",
   "metadata": {
    "slideshow": {
     "slide_type": "slide"
    }
   },
   "source": [
    "# Boolean Operators: AND, OR, NOT\n",
    "\n",
    "- `AND` operator: True if both operands are true\n",
    "- `OR` operator: True if at least one operand is true\n",
    "- `NOT` operator: Inverts the boolean value"
   ]
  },
  {
   "cell_type": "code",
   "execution_count": null,
   "id": "bce3d0b2",
   "metadata": {
    "slideshow": {
     "slide_type": "fragment"
    }
   },
   "outputs": [],
   "source": [
    "print(True and True)"
   ]
  },
  {
   "cell_type": "markdown",
   "id": "56e0b0ab",
   "metadata": {
    "slideshow": {
     "slide_type": "slide"
    }
   },
   "source": [
    "# Comparison Operators\n",
    "\n",
    "- Used to compare values\n",
    "- Examples: `==` (equal to), `!=` (not equal to)\n",
    "- `>` (greater than), `<` (less than), `>=` (greater than or equal to), `<=` (less than or equal to)"
   ]
  },
  {
   "cell_type": "code",
   "execution_count": null,
   "id": "057ecee2",
   "metadata": {
    "slideshow": {
     "slide_type": "fragment"
    }
   },
   "outputs": [],
   "source": [
    "a = 5\n",
    "b = 5\n",
    "print(a < b)"
   ]
  },
  {
   "cell_type": "markdown",
   "id": "8ec91350",
   "metadata": {
    "slideshow": {
     "slide_type": "slide"
    }
   },
   "source": [
    "# Combining Boolean and Comparison Operators\n",
    "\n",
    "- Combine operators for complex conditions\n",
    "- Example: `(a > b) AND (a < c)`\n",
    "- Evaluates to True or False based on `a`, `b`, and `c` values"
   ]
  },
  {
   "cell_type": "markdown",
   "id": "2939b419",
   "metadata": {
    "slideshow": {
     "slide_type": "slide"
    }
   },
   "source": [
    "# IF, Else\n",
    "\n",
    "<div>\n",
    "<img src=\"img/lab3/ConditionalFlow.png\" width=\"500\"/>\n",
    "</div>"
   ]
  },
  {
   "cell_type": "markdown",
   "id": "d0917232",
   "metadata": {
    "slideshow": {
     "slide_type": "slide"
    }
   },
   "source": [
    "<div>\n",
    "<img src=\"img/lab3/ConditionalAnatomy.png\" width=\"800\"/>\n",
    "</div>"
   ]
  },
  {
   "cell_type": "code",
   "execution_count": null,
   "id": "8f00cd32",
   "metadata": {
    "slideshow": {
     "slide_type": "slide"
    }
   },
   "outputs": [],
   "source": [
    "a = 5\n",
    "b = 4\n",
    "if a > b:\n",
    "    print(\"If Code Ran\")\n",
    "else:\n",
    "    print(\"condition was false\")"
   ]
  },
  {
   "cell_type": "markdown",
   "id": "8f6979ca",
   "metadata": {
    "slideshow": {
     "slide_type": "slide"
    }
   },
   "source": [
    "# F String\n",
    "\n",
    "- F-strings, introduced in Python 3.6, are a way to format strings\n",
    "- Stands for “formatted string literals”\n",
    "- Makes it easier to embed expressions inside string literals\n",
    "- An easier way for us to combine variables and strings"
   ]
  },
  {
   "cell_type": "markdown",
   "id": "c13c2fc3",
   "metadata": {
    "slideshow": {
     "slide_type": "slide"
    }
   },
   "source": [
    "# Basic Syntax of F-Strings\n",
    "\n",
    "- Start with an `f` or `F` before the opening quote\n",
    "- Place variables or expressions in curly braces `{}` within the string\n",
    "- Example: "
   ]
  },
  {
   "cell_type": "code",
   "execution_count": null,
   "id": "9e7512b5",
   "metadata": {
    "slideshow": {
     "slide_type": "fragment"
    }
   },
   "outputs": [],
   "source": [
    "name = 'Alice'\n",
    "s = f'Hello, {name}!'\n",
    "print(s)"
   ]
  },
  {
   "cell_type": "markdown",
   "id": "e1f94e02",
   "metadata": {
    "slideshow": {
     "slide_type": "slide"
    }
   },
   "source": [
    "# Embedding Expressions in F-Strings\n",
    "\n",
    "- Any valid Python expression can be embedded\n",
    "- Includes arithmetic, function calls, and more\n",
    "- Example:"
   ]
  },
  {
   "cell_type": "code",
   "execution_count": null,
   "id": "90aa5aba",
   "metadata": {
    "slideshow": {
     "slide_type": "fragment"
    }
   },
   "outputs": [],
   "source": [
    "f'The sum of 2 and 3 is {2 + 3}'"
   ]
  },
  {
   "cell_type": "markdown",
   "id": "7a49c975",
   "metadata": {
    "slideshow": {
     "slide_type": "slide"
    }
   },
   "source": [
    "# Formatting Options in F-Strings\n",
    "\n",
    "- F-strings allow for detailed formatting\n",
    "- Syntax: `{value:{width}.{precision}}`\n",
    "- Example:"
   ]
  },
  {
   "cell_type": "code",
   "execution_count": null,
   "id": "cebacc79",
   "metadata": {
    "slideshow": {
     "slide_type": "fragment"
    }
   },
   "outputs": [],
   "source": [
    "f'Pi is approximately {3.14159:.2f}'"
   ]
  },
  {
   "cell_type": "markdown",
   "id": "4a524d9a",
   "metadata": {
    "slideshow": {
     "slide_type": "slide"
    }
   },
   "source": [
    "\n",
    "# F Strings are helpful\n",
    "\n",
    "- F-strings are a powerful tool for string formatting in Python\n",
    "- Enhance readability and maintainability of code\n",
    "- A preferred choice for string formatting in modern Python"
   ]
  }
 ],
 "metadata": {
  "celltoolbar": "Slideshow",
  "kernelspec": {
   "display_name": "Python 3 (ipykernel)",
   "language": "python",
   "name": "python3"
  },
  "language_info": {
   "codemirror_mode": {
    "name": "ipython",
    "version": 3
   },
   "file_extension": ".py",
   "mimetype": "text/x-python",
   "name": "python",
   "nbconvert_exporter": "python",
   "pygments_lexer": "ipython3",
   "version": "3.11.0"
  }
 },
 "nbformat": 4,
 "nbformat_minor": 5
}
