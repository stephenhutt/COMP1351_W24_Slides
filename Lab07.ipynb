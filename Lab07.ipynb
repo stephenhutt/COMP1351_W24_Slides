{
 "cells": [
  {
   "cell_type": "markdown",
   "id": "ee07ec65",
   "metadata": {
    "slideshow": {
     "slide_type": "slide"
    }
   },
   "source": [
    "# COMP 1351: Intro to Programming\n",
    "## Winter 2024\n",
    "## Lab 7"
   ]
  },
  {
   "cell_type": "markdown",
   "id": "c5451fdd",
   "metadata": {
    "slideshow": {
     "slide_type": "slide"
    }
   },
   "source": [
    "# Administrivia\n",
    "- We are now on our weird schedule\n",
    "- Homework 4 is due Tuesday night\n",
    "- Project 2 is due Thursday night\n",
    "- Quiz 3 is on Monday"
   ]
  },
  {
   "cell_type": "markdown",
   "id": "fcf577b0",
   "metadata": {},
   "source": [
    "<div>\n",
    "    <img src=\"img/Lab7/CanvasBug.png\" width=\"1000\"/>\n",
    "</div>"
   ]
  },
  {
   "cell_type": "markdown",
   "id": "d9ff9de3",
   "metadata": {
    "slideshow": {
     "slide_type": "slide"
    }
   },
   "source": [
    "# Last Time\n",
    "- We've learnt about loops\n",
    "- We've learnt about conditionals\n",
    "- We tried out while loops"
   ]
  },
  {
   "cell_type": "markdown",
   "id": "7ec4abe9",
   "metadata": {},
   "source": [
    "# Some reminders\n",
    "- `while` loops only run when teh condiiton is true, they stop when the condition is false\n",
    "- Unlike `if`, `while` loops cannot have an `else` statement\n",
    "- If a variable is in the loop condition  it **must** be edited inside the loop"
   ]
  },
  {
   "cell_type": "markdown",
   "id": "8dc838b7",
   "metadata": {
    "slideshow": {
     "slide_type": "slide"
    }
   },
   "source": [
    "# Practical Example - Checking Password"
   ]
  },
  {
   "cell_type": "code",
   "execution_count": null,
   "id": "048fe806",
   "metadata": {
    "scrolled": false,
    "slideshow": {
     "slide_type": "fragment"
    }
   },
   "outputs": [],
   "source": [
    "\n",
    "password = input(\"Enter password: \")\n",
    "#a = \"hello\"\n",
    "while password != \"correct\":\n",
    "    password = input(\"Incorrect, try again: \")\n",
    "print(\"Password accepted.\")"
   ]
  },
  {
   "cell_type": "markdown",
   "id": "b401e8a0",
   "metadata": {},
   "source": [
    "# Preclass\n",
    "- What were the key take aways?"
   ]
  },
  {
   "cell_type": "markdown",
   "id": "7f254153",
   "metadata": {
    "slideshow": {
     "slide_type": "slide"
    }
   },
   "source": [
    "# Keyboard and mouse"
   ]
  },
  {
   "cell_type": "markdown",
   "id": "951167c2",
   "metadata": {
    "slideshow": {
     "slide_type": "slide"
    }
   },
   "source": [
    "<div>\n",
    "    <img src=\"img/lab7/MouseClicked.png\" width=\"1000\"/>\n",
    "</div>"
   ]
  },
  {
   "cell_type": "markdown",
   "id": "4fae5152",
   "metadata": {
    "slideshow": {
     "slide_type": "slide"
    }
   },
   "source": [
    "<div>\n",
    "    <img src=\"img/lab7/mouseX.png\" width=\"1000\"/>\n",
    "</div>"
   ]
  },
  {
   "cell_type": "markdown",
   "id": "da54cbc8",
   "metadata": {
    "slideshow": {
     "slide_type": "fragment"
    }
   },
   "source": [
    "<div>\n",
    "    <img src=\"img/lab7/mouseY.png\" width=\"1000\"/>\n",
    "</div>"
   ]
  },
  {
   "cell_type": "markdown",
   "id": "a40e7e64",
   "metadata": {
    "slideshow": {
     "slide_type": "slide"
    }
   },
   "source": [
    "# So...\n",
    "\n",
    "- we have a function to tell us if the mouse has been pressed - `mouse_clicked()`\n",
    "- and if that is true, functions to tell us where - `mouse_x()` and `mouse_y()`"
   ]
  },
  {
   "cell_type": "markdown",
   "id": "53c0849c",
   "metadata": {
    "slideshow": {
     "slide_type": "fragment"
    }
   },
   "source": [
    "## Keyboard is kind of similar"
   ]
  },
  {
   "cell_type": "markdown",
   "id": "b9457569",
   "metadata": {
    "slideshow": {
     "slide_type": "slide"
    }
   },
   "source": [
    "<div>\n",
    "    <img src=\"img/lab7/nextKeyTyped.png\" width=\"1000\"/>\n",
    "</div>"
   ]
  },
  {
   "cell_type": "markdown",
   "id": "54d75b56",
   "metadata": {
    "slideshow": {
     "slide_type": "slide"
    }
   },
   "source": [
    "<div>\n",
    "    <img src=\"img/lab7/NextKey.png\" width=\"1000\"/>\n",
    "</div>"
   ]
  }
 ],
 "metadata": {
  "celltoolbar": "Slideshow",
  "kernelspec": {
   "display_name": "Python 3 (ipykernel)",
   "language": "python",
   "name": "python3"
  },
  "language_info": {
   "codemirror_mode": {
    "name": "ipython",
    "version": 3
   },
   "file_extension": ".py",
   "mimetype": "text/x-python",
   "name": "python",
   "nbconvert_exporter": "python",
   "pygments_lexer": "ipython3",
   "version": "3.11.0"
  }
 },
 "nbformat": 4,
 "nbformat_minor": 5
}
