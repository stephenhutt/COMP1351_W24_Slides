{
 "cells": [
  {
   "cell_type": "markdown",
   "id": "ee07ec65",
   "metadata": {
    "slideshow": {
     "slide_type": "slide"
    }
   },
   "source": [
    "# COMP 1351: Intro to Programming\n",
    "## Winter 2024\n",
    "## Lab 5"
   ]
  },
  {
   "cell_type": "markdown",
   "id": "c5451fdd",
   "metadata": {
    "slideshow": {
     "slide_type": "slide"
    }
   },
   "source": [
    "# Administrivia\n",
    "- We are now on our weird schedule\n",
    "- Homework 3 is due Tuesday night\n",
    "- Project 2 is due Thursday night\n",
    "- Quiz 2 is on Monday! Quiz 1 results are posted"
   ]
  },
  {
   "cell_type": "markdown",
   "id": "5b254e9e",
   "metadata": {},
   "source": [
    "# Introduction to Function Parameters\n",
    "Definition: Parameters are input values that functions take to execute specific tasks.\n",
    "Importance: Allows customization of function behavior."
   ]
  },
  {
   "cell_type": "markdown",
   "id": "dac4f2e1",
   "metadata": {},
   "source": [
    "# Calling Functions with Parameters\n",
    "- Syntax: `function_name(argument1, argument2, ...)`\n",
    "- Examples:\n",
    "    - `print(\"Hello!\")` - `print()` function takes a string.\n",
    "    - `dudraw.line(0, 0, 1, 0.5)` - dudraw.line function takes four parameters."
   ]
  },
  {
   "cell_type": "markdown",
   "id": "e9109b99",
   "metadata": {
    "slideshow": {
     "slide_type": "slide"
    }
   },
   "source": [
    "# Creating Functions with Parameters\n",
    "- Function: greet_user(num_greetings: int)\n",
    "- Purpose: Outputs \"Hello, world!\" multiple times."
   ]
  },
  {
   "cell_type": "code",
   "execution_count": 1,
   "id": "97e3d01d",
   "metadata": {
    "slideshow": {
     "slide_type": "fragment"
    }
   },
   "outputs": [
    {
     "name": "stdout",
     "output_type": "stream",
     "text": [
      "Hello, world!\n",
      "Hello, world!\n",
      "Hello, world!\n",
      "Hello, world!\n",
      "Hello, world!\n"
     ]
    }
   ],
   "source": [
    "def greet_user(num_greetings: int) -> None:\n",
    "    for i in range(num_greetings):\n",
    "        print(\"Hello, world!\")\n",
    "        \n",
    "greet_user(5)"
   ]
  },
  {
   "cell_type": "markdown",
   "id": "cccbd5c9",
   "metadata": {
    "slideshow": {
     "slide_type": "slide"
    }
   },
   "source": [
    "# Example 2 - Personalized Greeting\n",
    "- Function: greet_user(num_greetings: int, name: str)\n",
    "- Purpose: Outputs personalized greetings.\n"
   ]
  },
  {
   "cell_type": "code",
   "execution_count": null,
   "id": "b04aac69",
   "metadata": {
    "slideshow": {
     "slide_type": "fragment"
    }
   },
   "outputs": [],
   "source": [
    "def greet_user_name(num_greetings: int, name: str) -> None:\n",
    "    for i in range(num_greetings):\n",
    "        print(f\"Hello, {name}\")\n",
    "\n",
    "greet_user_name(2, \"Stephen\")"
   ]
  },
  {
   "cell_type": "markdown",
   "id": "f3db45eb",
   "metadata": {
    "slideshow": {
     "slide_type": "slide"
    }
   },
   "source": [
    "# Commenting Standards for Functions\n",
    "Docstrings: Explain the function's purpose and parameters."
   ]
  },
  {
   "cell_type": "code",
   "execution_count": null,
   "id": "0ed1dd23",
   "metadata": {
    "slideshow": {
     "slide_type": "fragment"
    }
   },
   "outputs": [],
   "source": [
    "def greet_user(num_greetings: int, name: str) -> None:\n",
    "    \"\"\" \n",
    "    Give greetings to the user, including their name\n",
    "    parameters:\n",
    "        num_greetings: number of repetitions of greeting (type: int)\n",
    "        name: username, to be included in greeting (type: str)\n",
    "    return: None\n",
    "    \"\"\"\n"
   ]
  },
  {
   "cell_type": "markdown",
   "id": "70635f1b",
   "metadata": {},
   "source": [
    "# Scaling Images\n"
   ]
  },
  {
   "cell_type": "markdown",
   "id": "0e03d8a6",
   "metadata": {},
   "source": [
    "# Introduction to Scaled and Shifted Drawings\n",
    "\n",
    "- **Overview**: Demonstrates scaling and shifting images in Python using `dudraw`.\n",
    "- **Example**: Basic house drawing to illustrate scaling and shifting techniques.\n"
   ]
  },
  {
   "cell_type": "code",
   "execution_count": 1,
   "id": "18047f35",
   "metadata": {},
   "outputs": [],
   "source": [
    "import dudraw\n",
    "def draw_house() -> None:\n",
    "    \"\"\" Draw a house. The size is 1x1, but it is shifted\n",
    "        to the right 2 and up 3. Thus it fills a \n",
    "        [2, 3]x[3, 4] square\n",
    "        parameters: None\n",
    "        return: None\n",
    "    \"\"\"\n",
    "    # draw green main body of the house\n",
    "    dudraw.set_pen_color_rgb(20, 150, 100)\n",
    "    # shift the (x, y) center, leave the width and height as-is\n",
    "    dudraw.filled_rectangle(2 + 0.5, 3 + 0.3, 0.5, 0.3)\n",
    "    # draw brown roof\n",
    "    dudraw.set_pen_color_rgb(100, 25, 10)\n",
    "    # the filled_triangle function takes three points as parameters,\n",
    "    # all of which have to be shifted\n",
    "    dudraw.filled_triangle(2 + 0, 3 + 0.6, 2 + 1, \n",
    "        3 + 0.6, 2 + 0.5, 3 + 1)\n",
    "    # draw red door\n",
    "    dudraw.set_pen_color_rgb(150, 0, 0)\n",
    "    # shift the (x, y) center, leave the width and height as-is\n",
    "    dudraw.filled_rectangle(2 + 0.5, 3 + 0.15, 0.1, 0.15)"
   ]
  },
  {
   "cell_type": "markdown",
   "id": "ae5f585e",
   "metadata": {
    "slideshow": {
     "slide_type": "slide"
    }
   },
   "source": [
    "# Shifting Images\n",
    "\n",
    "- **Concept**: Shifting images around the canvas, ysing `x` and `y` coordinates\n",
    "- **Implementation**: Modify `(x, y)` values for right/left and up/down shifts.\n",
    "- We can do this with parameters!\n"
   ]
  },
  {
   "cell_type": "markdown",
   "id": "4fa556b1",
   "metadata": {
    "slideshow": {
     "slide_type": "slide"
    }
   },
   "source": [
    "# Dynamic Image Shifting\n",
    "\n",
    "- **Advanced Technique**: `draw_house()` function with shift parameters.\n",
    "- **Purpose**: Draw multiple houses at various locations efficiently.\n",
    "- **Example**: Code for drawing houses at different shift values.\n"
   ]
  },
  {
   "cell_type": "code",
   "execution_count": 3,
   "id": "8de0c1d9",
   "metadata": {
    "slideshow": {
     "slide_type": "slide"
    }
   },
   "outputs": [],
   "source": [
    "def draw_house(x_shift: float, y_shift: float) -> None:\n",
    "    \"\"\" Draw a house. The size is 1 by 1, but it is shifted\n",
    "        horizontally by x_shift and vertically by y_shift. Thus\n",
    "        it fills a [x_shift, x_shift+1]x[y_shift, y_shift+1] square\n",
    "        parameters:\n",
    "            x_shift: left edge of the shifted image (type: float)\n",
    "            y_shift: bottom edge of the shifted image (type: float)\n",
    "        return: None\n",
    "    \"\"\"\n",
    "    # draw green main body of the house\n",
    "    dudraw.set_pen_color_rgb(20, 150, 100)\n",
    "    # shift the (x, y) location of rectangle, \n",
    "    # leave the width and height as-is\n",
    "    dudraw.filled_rectangle(x_shift + 0.5, y_shift + 0.3, 0.5, 0.3)\n",
    "    # draw brown roof\n",
    "    dudraw.set_pen_color_rgb(100, 25, 10)\n",
    "    # the filled_triangle function takes three points as parameters,\n",
    "    # all of which have to be shifted\n",
    "    dudraw.filled_triangle(x_shift + 0, y_shift + 0.6, \n",
    "        x_shift + 1, y_shift + 0.6, x_shift + 0.5, y_shift + 1)\n",
    "    # draw red door\n",
    "    dudraw.set_pen_color_rgb(150, 0, 0)\n",
    "    # shift the (x, y) location of rectangle\n",
    "    # leave the width and height as-is\n",
    "    dudraw.filled_rectangle(x_shift + 0.5, y_shift + 0.15, 0.1, 0.15)\n"
   ]
  },
  {
   "cell_type": "markdown",
   "id": "af7e0f75",
   "metadata": {},
   "source": [
    "# Scaling Images\n",
    "\n",
    "- **Concept**: Scaling images by modifying size.\n",
    "- **Implementation**: Multiply `x` and `y` values by scale factors.\n",
    "- **Example**: Code to stretch house image by a factor of 4 in `x` and 2 in `y`.\n"
   ]
  },
  {
   "cell_type": "markdown",
   "id": "429b10dc",
   "metadata": {
    "slideshow": {
     "slide_type": "slide"
    }
   },
   "source": [
    "# Dynamic Image Scaling\n",
    "\n",
    "- **Advanced Technique**: `draw_house()` with scaling parameters.\n",
    "- **Purpose**: Control over the size of the drawn house.\n",
    "- **Example**: Code for a house drawn with variable scaling factors.\n"
   ]
  },
  {
   "cell_type": "code",
   "execution_count": null,
   "id": "c2577112",
   "metadata": {
    "slideshow": {
     "slide_type": "slide"
    }
   },
   "outputs": [],
   "source": [
    "def draw_house(x_scale: float, y_scale: float) -> None:\n",
    "    \"\"\" Draw a house. The size is x_scale by y_scale, \n",
    "        with (0, 0) as the lower left corner.\n",
    "        [0, x_scale]x[0, y_scale] square\n",
    "        parameters:\n",
    "            x_scale: width of the scaled image (type: float)\n",
    "            y_scale: height of the scaled image (type: float)\n",
    "        return: None\n",
    "    \"\"\"\n",
    "    # draw green main body of the house\n",
    "    dudraw.set_pen_color_rgb(20, 150, 100)\n",
    "    # scale the x-positions and sizes by x_scale and the\n",
    "    # y-positions and sizes by y_scale.\n",
    "    dudraw.filled_rectangle(x_scale * 0.5, y_scale * 0.3, \n",
    "        x_scale * 0.5, y_scale * 0.3)\n",
    "    # draw brown roof\n",
    "    dudraw.set_pen_color_rgb(100, 25, 10)\n",
    "    # the filled_triangle function takes three points as parameters,\n",
    "    # all of which have to be scaled\n",
    "    dudraw.filled_triangle(x_scale * 0, y_scale * 0.6, x_scale * 1, \n",
    "        y_scale * 0.6, x_scale * 0.5, y_scale * 1)\n",
    "    # draw red door\n",
    "    dudraw.set_pen_color_rgb(150, 0, 0)\n",
    "    # scale all x and y values\n",
    "    dudraw.filled_rectangle(x_scale * 0.5, y_scale * 0.15, \n",
    "        x_scale * 0.1, y_scale * 0.15)"
   ]
  },
  {
   "cell_type": "markdown",
   "id": "467ad920",
   "metadata": {},
   "source": [
    "# Combining Shifting and Scaling\n",
    "\n",
    "- **Final Application**: Modify `draw_house()` for both shifting and scaling.\n",
    "- **Parameters**: `x_shift`, `y_shift`, `x_scale`, `y_scale`.\n",
    "- **Example**: Code showing houses with various shifts and scales.\n"
   ]
  },
  {
   "cell_type": "code",
   "execution_count": null,
   "id": "6e209126",
   "metadata": {
    "slideshow": {
     "slide_type": "slide"
    }
   },
   "outputs": [],
   "source": [
    "def draw_house(x_shift: float, y_shift: float, \n",
    "               x_scale: float, y_scale: float) -> None:\n",
    "    \"\"\" Draw a house. The size is x_scale by y_scale, \n",
    "        with (x_shift, y_shift) as the lower left corner.\n",
    "        It fills a square:\n",
    "        [x_shift, x_shift+x_scale]x[y_shift, y_shift + y_scale]\n",
    "        parameters:\n",
    "            x_shift: left corner of image (type: float)\n",
    "            y_shift: bottom corner of image (type: float)\n",
    "            x_scale: width of the image (type: float)\n",
    "            y_scale: height edge of the shifted image (type: float)\n",
    "        return: None\n",
    "    \"\"\"\n",
    "    # draw green main body of the house\n",
    "    dudraw.set_pen_color_rgb(20, 150, 100)\n",
    "    # scale the x-positions and sizes by x_scale and the\n",
    "    # y-positions and sizes by y_scale. Shift positions\n",
    "    # by the appropriate shift values\n",
    "    dudraw.filled_rectangle(\n",
    "        x_shift + x_scale * 0.5, y_shift + y_scale * 0.3, \n",
    "        x_scale * 0.5, y_scale * 0.3)\n",
    "    # draw brown roof\n",
    "    dudraw.set_pen_color_rgb(100, 25, 10)\n",
    "    # the filled_triangle function takes three points\n",
    "    # as parameters, all of which have to be scaled and shifted\n",
    "    dudraw.filled_triangle(\n",
    "        x_shift + x_scale * 0, y_shift + y_scale * 0.6, \n",
    "        x_shift + x_scale * 1, y_shift + y_scale * 0.6, \n",
    "        x_shift + x_scale * 0.5, y_shift + y_scale * 1)\n",
    "    # draw red door\n",
    "    dudraw.set_pen_color_rgb(150, 0, 0)\n",
    "    # scale all x and y values, shift all positions\n",
    "    dudraw.filled_rectangle(\n",
    "        x_shift + x_scale * 0.5, y_shift + y_scale * 0.15, \n",
    "        x_scale * 0.1, y_scale * 0.15)"
   ]
  }
 ],
 "metadata": {
  "celltoolbar": "Slideshow",
  "kernelspec": {
   "display_name": "Python 3 (ipykernel)",
   "language": "python",
   "name": "python3"
  },
  "language_info": {
   "codemirror_mode": {
    "name": "ipython",
    "version": 3
   },
   "file_extension": ".py",
   "mimetype": "text/x-python",
   "name": "python",
   "nbconvert_exporter": "python",
   "pygments_lexer": "ipython3",
   "version": "3.11.0"
  }
 },
 "nbformat": 4,
 "nbformat_minor": 5
}
