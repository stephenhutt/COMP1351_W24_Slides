{
 "cells": [
  {
   "cell_type": "markdown",
   "id": "ee07ec65",
   "metadata": {
    "slideshow": {
     "slide_type": "slide"
    }
   },
   "source": [
    "# COMP 1351: Intro to Programming\n",
    "## Winter 2024\n",
    "## Lab 8"
   ]
  },
  {
   "cell_type": "markdown",
   "id": "c5451fdd",
   "metadata": {
    "slideshow": {
     "slide_type": "slide"
    }
   },
   "source": [
    "# Administrivia\n",
    "- We are now on our weird schedule\n",
    "- Homework 4 is due Tuesday night\n",
    "- Project 4 is due Thursday night\n",
    "- Quiz 3 is on Today"
   ]
  },
  {
   "cell_type": "markdown",
   "id": "fcf577b0",
   "metadata": {},
   "source": [
    "<div>\n",
    "    <img src=\"img/Lab7/CanvasBug.png\" width=\"1000\"/>\n",
    "</div>"
   ]
  },
  {
   "cell_type": "markdown",
   "id": "6ee56f02",
   "metadata": {},
   "source": [
    "# Introduction to Functions\n",
    "- Functions are reusable blocks of code performing a specific task.\n",
    "- Example: `def greet(name):` to create a greeting function.\n"
   ]
  },
  {
   "cell_type": "markdown",
   "id": "8c198fc0",
   "metadata": {},
   "source": [
    "# Advantages of Functions\n",
    "- Improves code reusability and organization.\n",
    "- Example: Using `greet(name)` multiple times with different names.\n"
   ]
  },
  {
   "cell_type": "markdown",
   "id": "b2552a0a",
   "metadata": {},
   "source": [
    "# Functions with Return Values\n",
    "- Functions can return data using the `return` keyword.\n",
    "- Example: `def square(number):` returning `number * number`.\n"
   ]
  },
  {
   "cell_type": "markdown",
   "id": "2109b822",
   "metadata": {},
   "source": [
    "# User-Defined Functions\n",
    "- You can create custom functions for specific tasks.\n",
    "- Example: `def convert_to_celsius(fahrenheit):` for temperature conversion.\n"
   ]
  },
  {
   "cell_type": "markdown",
   "id": "27375458",
   "metadata": {},
   "source": [
    "# Scope of Function Parameters\n",
    "- Parameters inside functions have a local scope.\n",
    "- Example: `temperature` variable inside `convert_to_celsius` is local.\n"
   ]
  },
  {
   "cell_type": "markdown",
   "id": "7d11d4fc",
   "metadata": {},
   "source": [
    "# Boolean Functions\n",
    "- Functions that return either `True` or `False`.\n",
    "- Example: `def is_even(number):` to check if a number is even.\n"
   ]
  },
  {
   "cell_type": "markdown",
   "id": "3922c9ce",
   "metadata": {},
   "source": [
    "# Practical Example: Prime Numbers\n",
    "- A function to check if a number is prime.\n",
    "- Example: `def is_prime(num):` checking for prime numbers.\n"
   ]
  },
  {
   "cell_type": "markdown",
   "id": "7cbea2a6",
   "metadata": {},
   "source": [
    "# Advanced Function Use\n",
    "- Building more complex functions using simpler ones.\n",
    "- Example: `def next_prime(current):` to find the next prime number.\n"
   ]
  },
  {
   "cell_type": "code",
   "execution_count": null,
   "id": "108bd540",
   "metadata": {},
   "outputs": [],
   "source": []
  }
 ],
 "metadata": {
  "celltoolbar": "Slideshow",
  "kernelspec": {
   "display_name": "Python 3 (ipykernel)",
   "language": "python",
   "name": "python3"
  },
  "language_info": {
   "codemirror_mode": {
    "name": "ipython",
    "version": 3
   },
   "file_extension": ".py",
   "mimetype": "text/x-python",
   "name": "python",
   "nbconvert_exporter": "python",
   "pygments_lexer": "ipython3",
   "version": "3.11.0"
  }
 },
 "nbformat": 4,
 "nbformat_minor": 5
}
