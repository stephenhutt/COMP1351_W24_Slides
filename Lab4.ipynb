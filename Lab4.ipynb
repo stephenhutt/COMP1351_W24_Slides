{
 "cells": [
  {
   "cell_type": "markdown",
   "id": "ee07ec65",
   "metadata": {
    "slideshow": {
     "slide_type": "slide"
    }
   },
   "source": [
    "# COMP 1351: Intro to Programming\n",
    "## Winter 2024\n",
    "## Lab 4"
   ]
  },
  {
   "cell_type": "markdown",
   "id": "c5451fdd",
   "metadata": {
    "slideshow": {
     "slide_type": "slide"
    }
   },
   "source": [
    "# Administrivia\n",
    "- We are now on our weird schedule\n",
    "- Homework 2 is due Tuesday night\n",
    "- Project 2 is due Thursday night\n",
    "- Quiz 1 is today!"
   ]
  },
  {
   "cell_type": "markdown",
   "id": "9cfc2462",
   "metadata": {
    "slideshow": {
     "slide_type": "slide"
    }
   },
   "source": [
    "# Introduction to For Loops in Python\n",
    "## Pre Class Revision\n",
    "- A `for` loop is used for iterating over a sequence\n",
    "- Commonly used to execute a block of code a certain number of times\n",
    "- Easy to read and understand"
   ]
  },
  {
   "cell_type": "markdown",
   "id": "6ecfb64f",
   "metadata": {
    "slideshow": {
     "slide_type": "slide"
    }
   },
   "source": [
    "# Understanding the Range Function\n",
    "\n",
    "- `range(x)` generates a sequence of numbers\n",
    "- Starts from 0 by default and ends at x-1\n",
    "- `x` is not included in the sequence"
   ]
  },
  {
   "cell_type": "code",
   "execution_count": 3,
   "id": "123aac86",
   "metadata": {
    "slideshow": {
     "slide_type": "fragment"
    }
   },
   "outputs": [
    {
     "name": "stdout",
     "output_type": "stream",
     "text": [
      "0\n",
      "1\n",
      "2\n",
      "3\n",
      "4\n",
      "5\n"
     ]
    }
   ],
   "source": [
    "for i in range(6):\n",
    "    print(i)"
   ]
  },
  {
   "cell_type": "markdown",
   "id": "fdc0a99b",
   "metadata": {
    "slideshow": {
     "slide_type": "slide"
    }
   },
   "source": [
    "# Basic For Loop with Range\n",
    "\n",
    "- Basic syntax: `for i in range(x):`\n",
    "- `i` is the loop variable that takes each value in the range\n",
    "- Block of code under the loop executes for each value of `i`"
   ]
  },
  {
   "cell_type": "markdown",
   "id": "c3d77240",
   "metadata": {
    "slideshow": {
     "slide_type": "slide"
    }
   },
   "source": [
    "# Looping Through a Range of Numbers\n",
    "\n",
    "- Example: `for i in range(5):`\n",
    "- This loop will iterate 5 times with `i` taking values 0 to 4\n",
    "- Each iteration runs the block of code under the loop"
   ]
  },
  {
   "cell_type": "markdown",
   "id": "5fc41b2c",
   "metadata": {
    "slideshow": {
     "slide_type": "slide"
    }
   },
   "source": [
    "# Using Different Ranges in For Loops\n",
    "\n",
    "- Can specify start, stop, and step: `range(start, stop, step)`\n",
    "- Example: `for i in range(1, 10, 2):` iterates over 1, 3, 5, 7, 9\n",
    "- Versatile for various looping needs"
   ]
  },
  {
   "cell_type": "markdown",
   "id": "2585f9ef",
   "metadata": {
    "slideshow": {
     "slide_type": "slide"
    }
   },
   "source": [
    "# Practical Examples of For Loops\n",
    "\n",
    "- Using a loop to print numbers from 0 to 4\n",
    "- Summing a range of numbers\n",
    "- Repeating an action multiple times"
   ]
  },
  {
   "cell_type": "markdown",
   "id": "e17c9552",
   "metadata": {
    "slideshow": {
     "slide_type": "slide"
    }
   },
   "source": [
    "# For - Conclusion\n",
    "\n",
    "- `for` loops with `range` are fundamental in Python\n",
    "- Useful for repetitive tasks and iterating over sequences\n",
    "- A key concept that exists in all programming languages"
   ]
  },
  {
   "cell_type": "markdown",
   "id": "159dfc21",
   "metadata": {
    "slideshow": {
     "slide_type": "slide"
    }
   },
   "source": [
    "# Introduction to the Main Function in Python\n",
    "\n",
    "- In Python, a main function is the entry point of a script or program\n",
    "- It's where the execution of program starts and ends\n",
    "- Not required in Python, but a good practice"
   ]
  },
  {
   "cell_type": "markdown",
   "id": "273cb3af",
   "metadata": {
    "slideshow": {
     "slide_type": "slide"
    }
   },
   "source": [
    "# Why Use a Main Function?\n",
    "\n",
    "- Organizes code for readability and maintenance\n",
    "- Allows for better control over program flow\n",
    "- Facilitates code testing and debugging"
   ]
  },
  {
   "cell_type": "markdown",
   "id": "d28d9a3a",
   "metadata": {
    "slideshow": {
     "slide_type": "slide"
    }
   },
   "source": [
    "# The if __name__ == \"__main__\": Statement\n",
    "- Ensures the block of code under it runs only if the script is executed as the main program\n",
    "- Provides a safeguard for code being imported as a module\n",
    "- Example:"
   ]
  },
  {
   "cell_type": "code",
   "execution_count": null,
   "id": "4508dd3f",
   "metadata": {
    "slideshow": {
     "slide_type": "slide"
    }
   },
   "outputs": [],
   "source": [
    "if __name__ == \"__main__\":\n",
    "    # Your Program and Function calls\n",
    "    print(\"Successfully in Main\")"
   ]
  }
 ],
 "metadata": {
  "celltoolbar": "Slideshow",
  "kernelspec": {
   "display_name": "Python 3 (ipykernel)",
   "language": "python",
   "name": "python3"
  },
  "language_info": {
   "codemirror_mode": {
    "name": "ipython",
    "version": 3
   },
   "file_extension": ".py",
   "mimetype": "text/x-python",
   "name": "python",
   "nbconvert_exporter": "python",
   "pygments_lexer": "ipython3",
   "version": "3.11.0"
  }
 },
 "nbformat": 4,
 "nbformat_minor": 5
}
