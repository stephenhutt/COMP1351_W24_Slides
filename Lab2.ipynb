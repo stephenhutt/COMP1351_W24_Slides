{
 "cells": [
  {
   "cell_type": "markdown",
   "id": "7fd4cbbb",
   "metadata": {
    "slideshow": {
     "slide_type": "slide"
    }
   },
   "source": [
    "# COMP 1351: Intro to Programming\n",
    "## Winter 2024\n",
    "## Lab 2"
   ]
  },
  {
   "cell_type": "markdown",
   "id": "5829d142",
   "metadata": {
    "slideshow": {
     "slide_type": "slide"
    }
   },
   "source": [
    "# Administrivia\n",
    "- Homework 1 is due on Friday\n",
    "- Project 1 is due on Sunday Night\n",
    "- My office hours are now on the course calendar"
   ]
  },
  {
   "cell_type": "markdown",
   "id": "506d3d60",
   "metadata": {
    "slideshow": {
     "slide_type": "slide"
    }
   },
   "source": [
    "# Course Team Updates\n",
    "- TA Ericka Coral Yannez \n",
    "    - *they/them/theirs*\n",
    "    - In Class Support and Office Hours\n",
    "- TA Karlan Schneider\n",
    "    - *he/him/his*\n",
    "    - Office Hours and grading\n"
   ]
  },
  {
   "cell_type": "markdown",
   "id": "f6dd2974",
   "metadata": {
    "slideshow": {
     "slide_type": "slide"
    }
   },
   "source": [
    "# Last Time\n",
    "- We talked a little about variables\n",
    "- We talked about print\n",
    "- We talked about Expressions and variables\n",
    "- We tried some things out"
   ]
  },
  {
   "cell_type": "markdown",
   "id": "859fbe33",
   "metadata": {
    "slideshow": {
     "slide_type": "slide"
    }
   },
   "source": [
    "# In your pre class\n",
    "\n",
    "- More on Variables\n",
    "- What makes a legal variable name\n"
   ]
  },
  {
   "cell_type": "markdown",
   "id": "9d7a3a94",
   "metadata": {
    "slideshow": {
     "slide_type": "slide"
    }
   },
   "source": [
    "# Remeber...\n",
    "- Variables are like a box\n",
    "- We give the box a name\n",
    "- We put something in the box"
   ]
  },
  {
   "cell_type": "markdown",
   "id": "9707cfa3",
   "metadata": {
    "slideshow": {
     "slide_type": "slide"
    }
   },
   "source": [
    "# Today\n",
    "- Functions\n",
    "- More Variables\n",
    "- Random"
   ]
  },
  {
   "cell_type": "markdown",
   "id": "5459e931",
   "metadata": {
    "slideshow": {
     "slide_type": "slide"
    }
   },
   "source": [
    "# Functions\n",
    "\n",
    "A “chunk” of code that you can run over and over again\n",
    "\n",
    "Self contained\n",
    "\n",
    "We can reuse code instead of rewriting it"
   ]
  },
  {
   "cell_type": "markdown",
   "id": "8f3bd23e",
   "metadata": {
    "slideshow": {
     "slide_type": "slide"
    }
   },
   "source": [
    "# Definition of a Function:\n",
    "\n",
    "- A reusable block of code\n",
    "- Performs a specific task\n"
   ]
  },
  {
   "cell_type": "markdown",
   "id": "18acedfe",
   "metadata": {
    "slideshow": {
     "slide_type": "fragment"
    }
   },
   "source": [
    "# Purpose of Functions:\n",
    "\n",
    "- Simplify code by breaking it into smaller parts\n",
    "- Enhance code readability\n",
    "- Facilitate code reuse\n"
   ]
  },
  {
   "cell_type": "markdown",
   "id": "6e1da8e7",
   "metadata": {
    "slideshow": {
     "slide_type": "slide"
    }
   },
   "source": [
    "# Basic Structure of a Function in Python:\n",
    "\n",
    "- Starts with the `def` keyword\n",
    "- Function name follows the def keyword\n",
    "- Parentheses `()` after the name (parameters inside if any)\n",
    "- A colon : to end the line\n",
    "- Indented block of code which is the body of the function"
   ]
  },
  {
   "cell_type": "code",
   "execution_count": 48,
   "id": "06f5f667",
   "metadata": {
    "slideshow": {
     "slide_type": "fragment"
    }
   },
   "outputs": [
    {
     "name": "stdout",
     "output_type": "stream",
     "text": [
      "Hello\n",
      "World\n",
      "Hello\n",
      "World\n"
     ]
    }
   ],
   "source": [
    "def sayHello():\n",
    "    print(\"Hello\")\n",
    "    print(\"World\")\n",
    "\n",
    "sayHello()\n",
    "sayHello()"
   ]
  },
  {
   "cell_type": "markdown",
   "id": "f8868d0c",
   "metadata": {
    "slideshow": {
     "slide_type": "slide"
    }
   },
   "source": [
    "# Parameters and Arguments:\n",
    "\n",
    "Parameters: Variables listed inside the parentheses in the function definition\n",
    "Arguments: Values passed to the function when it is called"
   ]
  },
  {
   "cell_type": "markdown",
   "id": "4e05d4e9",
   "metadata": {
    "slideshow": {
     "slide_type": "slide"
    }
   },
   "source": [
    "# Calling a Function:\n",
    "- Calling a function is what we say when we want to run it"
   ]
  },
  {
   "cell_type": "markdown",
   "id": "7dccdd9a",
   "metadata": {
    "slideshow": {
     "slide_type": "fragment"
    }
   },
   "source": [
    "- Use the function name followed by parentheses\n",
    "- Include arguments inside the parentheses if the function requires them"
   ]
  },
  {
   "cell_type": "markdown",
   "id": "242b241b",
   "metadata": {
    "slideshow": {
     "slide_type": "slide"
    }
   },
   "source": [
    "# Return Statement:\n",
    "\n",
    "- `return` keyword sends a result back to the caller\n",
    "- A function can return data as a result"
   ]
  },
  {
   "cell_type": "markdown",
   "id": "c160fb3a",
   "metadata": {
    "slideshow": {
     "slide_type": "slide"
    }
   },
   "source": [
    "# Documenting Functions\n",
    "\n"
   ]
  },
  {
   "cell_type": "code",
   "execution_count": null,
   "id": "d218b67d",
   "metadata": {},
   "outputs": [],
   "source": [
    "\"\"\"\n",
    "Purpose of the function goes here\n",
    "parameters: None\n",
    "return: None\n",
    "\"\"\""
   ]
  },
  {
   "cell_type": "markdown",
   "id": "4d057447",
   "metadata": {
    "slideshow": {
     "slide_type": "slide"
    }
   },
   "source": [
    "# Best Practices\n",
    "\n",
    "Give functions descriptive names\n",
    "Keep functions short and focused on a single task\n",
    "Document functions with comments"
   ]
  },
  {
   "cell_type": "markdown",
   "id": "be8ecc54",
   "metadata": {
    "slideshow": {
     "slide_type": "slide"
    }
   },
   "source": [
    "# Functions are like Recipes\n",
    " - Recipe Book (Program): A program can have multiple recipes"
   ]
  },
  {
   "cell_type": "markdown",
   "id": "476c4f32",
   "metadata": {
    "slideshow": {
     "slide_type": "fragment"
    }
   },
   "source": [
    "- **Recipe (Function)**: A function in programming is like a recipe in cooking. It's a set of instructions designed to perform a particular task. For example, a function to add two numbers in a program is like a recipe for making a sandwich - each provides step-by-step instructions to achieve a specific outcome."
   ]
  },
  {
   "cell_type": "markdown",
   "id": "68b2cdcd",
   "metadata": {
    "slideshow": {
     "slide_type": "fragment"
    }
   },
   "source": [
    "- **Ingredients (Parameters/Arguments)**: Just as recipes require ingredients, functions often need inputs to work with. These inputs are called parameters or arguments. "
   ]
  },
  {
   "cell_type": "markdown",
   "id": "0f86a70d",
   "metadata": {
    "slideshow": {
     "slide_type": "fragment"
    }
   },
   "source": [
    "- **Cooking Process (Function Execution)**: When you follow the steps in a recipe, it's like executing a function. You take the ingredients (arguments), follow the recipe's steps (function's code), and end up with a finished dish (the function's output)."
   ]
  },
  {
   "cell_type": "markdown",
   "id": "be6459a9",
   "metadata": {
    "slideshow": {
     "slide_type": "slide"
    }
   },
   "source": [
    "# Random\n",
    "- Why might we need randome numbers?"
   ]
  },
  {
   "cell_type": "markdown",
   "id": "e878a15c",
   "metadata": {
    "slideshow": {
     "slide_type": "slide"
    }
   },
   "source": [
    "# Random in Python\n",
    "\n",
    "- We need import a new library “random”\n",
    "- We can now use the functions in that library"
   ]
  },
  {
   "cell_type": "code",
   "execution_count": 5,
   "id": "8486fabd",
   "metadata": {
    "ExecuteTime": {
     "end_time": "2024-01-07T19:49:44.502319Z",
     "start_time": "2024-01-07T19:49:44.499111Z"
    },
    "slideshow": {
     "slide_type": "fragment"
    }
   },
   "outputs": [],
   "source": [
    "import random"
   ]
  },
  {
   "cell_type": "code",
   "execution_count": 46,
   "id": "85137ccb",
   "metadata": {
    "slideshow": {
     "slide_type": "fragment"
    }
   },
   "outputs": [
    {
     "name": "stdout",
     "output_type": "stream",
     "text": [
      "0.8653951982286534\n",
      "0.05775781122337209\n",
      "0.05775781122337209\n",
      "23.103124489348836\n"
     ]
    }
   ],
   "source": [
    "#Print a random number between 0 and 1\n",
    "print(random.random())\n",
    "a = random.random()\n",
    "print(a)\n",
    "print(a)\n",
    "print(a*400)"
   ]
  },
  {
   "cell_type": "code",
   "execution_count": 49,
   "id": "196bd441",
   "metadata": {
    "slideshow": {
     "slide_type": "fragment"
    }
   },
   "outputs": [
    {
     "name": "stdout",
     "output_type": "stream",
     "text": [
      "6\n"
     ]
    }
   ],
   "source": [
    "#Print a random integer (dice roll)\n",
    "print(random.randint(1,6))"
   ]
  }
 ],
 "metadata": {
  "celltoolbar": "Slideshow",
  "kernelspec": {
   "display_name": "Python 3 (ipykernel)",
   "language": "python",
   "name": "python3"
  },
  "language_info": {
   "codemirror_mode": {
    "name": "ipython",
    "version": 3
   },
   "file_extension": ".py",
   "mimetype": "text/x-python",
   "name": "python",
   "nbconvert_exporter": "python",
   "pygments_lexer": "ipython3",
   "version": "3.11.0"
  }
 },
 "nbformat": 4,
 "nbformat_minor": 5
}
