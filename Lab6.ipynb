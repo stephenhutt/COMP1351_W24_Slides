{
 "cells": [
  {
   "cell_type": "markdown",
   "id": "ee07ec65",
   "metadata": {
    "slideshow": {
     "slide_type": "slide"
    }
   },
   "source": [
    "# COMP 1351: Intro to Programming\n",
    "## Winter 2024\n",
    "## Lab 6"
   ]
  },
  {
   "cell_type": "markdown",
   "id": "c5451fdd",
   "metadata": {
    "slideshow": {
     "slide_type": "slide"
    }
   },
   "source": [
    "# Administrivia\n",
    "- We are now on our weird schedule\n",
    "- Homework 3 is due Tuesday night\n",
    "- Project 2 is due Thursday night\n",
    "- Quiz 2 is on Today"
   ]
  },
  {
   "cell_type": "markdown",
   "id": "d9ff9de3",
   "metadata": {
    "slideshow": {
     "slide_type": "slide"
    }
   },
   "source": [
    "# So Far\n",
    "- We've learnt about loops\n",
    "- We've learnt about conditionals\n",
    "- now we put them together"
   ]
  },
  {
   "cell_type": "code",
   "execution_count": 3,
   "id": "3cac398e",
   "metadata": {
    "slideshow": {
     "slide_type": "slide"
    }
   },
   "outputs": [
    {
     "name": "stdout",
     "output_type": "stream",
     "text": [
      "Do Something\n"
     ]
    }
   ],
   "source": [
    "# If Example\n",
    "a = 25\n",
    "if a < 30:\n",
    "    print(\"Do Something\")\n",
    "else:\n",
    "    print(\"Do Something else\")"
   ]
  },
  {
   "cell_type": "code",
   "execution_count": 4,
   "id": "9c121ba8",
   "metadata": {
    "slideshow": {
     "slide_type": "slide"
    }
   },
   "outputs": [
    {
     "name": "stdout",
     "output_type": "stream",
     "text": [
      "hello 0\n",
      "hello 1\n",
      "hello 2\n",
      "hello 3\n",
      "hello 4\n",
      "hello 5\n",
      "hello 6\n",
      "hello 7\n",
      "hello 8\n",
      "hello 9\n"
     ]
    }
   ],
   "source": [
    "# For Example \n",
    "for i in range(10):\n",
    "    print(\"hello\", i)"
   ]
  },
  {
   "cell_type": "markdown",
   "id": "5b254e9e",
   "metadata": {
    "slideshow": {
     "slide_type": "slide"
    }
   },
   "source": [
    "# Understanding While Loops in Python\n",
    "- While loops allow repeated execution of a block of code as long as a condition is true. \n",
    "- Use while loops when the number of iterations is not known in advance."
   ]
  },
  {
   "cell_type": "markdown",
   "id": "79d93eff",
   "metadata": {
    "slideshow": {
     "slide_type": "slide"
    }
   },
   "source": [
    "# Syntax and Structure\n",
    "Basic syntax:\n",
    "```python\n",
    "while condition:\n",
    "    # Execute code block\n",
    "# Continue after loop\n"
   ]
  },
  {
   "cell_type": "markdown",
   "id": "8dc838b7",
   "metadata": {
    "slideshow": {
     "slide_type": "slide"
    }
   },
   "source": [
    "# Practical Example - Checking Password"
   ]
  },
  {
   "cell_type": "code",
   "execution_count": null,
   "id": "048fe806",
   "metadata": {
    "scrolled": false,
    "slideshow": {
     "slide_type": "fragment"
    }
   },
   "outputs": [],
   "source": [
    "\n",
    "password = input(\"Enter password: \")\n",
    "#a = \"hello\"\n",
    "while password != \"correct\":\n",
    "    password = input(\"Incorrect, try again: \")\n",
    "print(\"Password accepted.\")"
   ]
  },
  {
   "cell_type": "markdown",
   "id": "d0827cad",
   "metadata": {
    "slideshow": {
     "slide_type": "slide"
    }
   },
   "source": [
    "\n",
    "# Choosing Between For and While Loops\n",
    "Use for loops for known iterations. Use while loops for unknown iterations.\n"
   ]
  },
  {
   "cell_type": "code",
   "execution_count": null,
   "id": "f165a651",
   "metadata": {},
   "outputs": [],
   "source": []
  }
 ],
 "metadata": {
  "celltoolbar": "Slideshow",
  "kernelspec": {
   "display_name": "Python 3 (ipykernel)",
   "language": "python",
   "name": "python3"
  },
  "language_info": {
   "codemirror_mode": {
    "name": "ipython",
    "version": 3
   },
   "file_extension": ".py",
   "mimetype": "text/x-python",
   "name": "python",
   "nbconvert_exporter": "python",
   "pygments_lexer": "ipython3",
   "version": "3.11.0"
  }
 },
 "nbformat": 4,
 "nbformat_minor": 5
}
